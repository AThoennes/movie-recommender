{
 "cells": [
  {
   "cell_type": "markdown",
   "id": "c2518665-46d0-4336-80e2-7705f2700095",
   "metadata": {
    "jp-MarkdownHeadingCollapsed": true,
    "tags": []
   },
   "source": [
    "# Simple Recommender"
   ]
  },
  {
   "cell_type": "markdown",
   "id": "542d0aa2-afc2-4ca1-8538-5e32ab3ded8b",
   "metadata": {},
   "source": [
    "This is a simple [movie recommendation model](https://www.datacamp.com/tutorial/recommender-systems-python) built to mimic the IMDB top 250. The data used in this notebook was downloaded from [here](https://www.kaggle.com/datasets/rounakbanik/the-movies-dataset?resource=download).\n",
    "\n",
    "This recommender uses the votes, vote averages, and vote means from the top 90% of the movies in the `metadata.csv`."
   ]
  },
  {
   "cell_type": "code",
   "execution_count": null,
   "id": "e62a3ed9-4d41-406f-8df7-826d343376ee",
   "metadata": {},
   "outputs": [],
   "source": [
    "import pandas as pd"
   ]
  },
  {
   "cell_type": "code",
   "execution_count": null,
   "id": "1f52096d-5a12-41fa-a995-5bfcec0cf4cc",
   "metadata": {},
   "outputs": [],
   "source": [
    "metadata = pd.read_csv('./data/movies_metadata.csv', low_memory=False)\n",
    "print(metadata.shape)\n",
    "metadata.head(3)"
   ]
  },
  {
   "cell_type": "code",
   "execution_count": null,
   "id": "6789eb9b-0af4-40d7-b33b-d18fcaabfd5a",
   "metadata": {},
   "outputs": [],
   "source": [
    "# Calculate mean of vote average column (scale goes from 0 to 10)\n",
    "C = metadata['vote_average'].mean()\n",
    "print(f'mean vote score: {C}')"
   ]
  },
  {
   "cell_type": "code",
   "execution_count": null,
   "id": "b2be0449-70ad-4e54-b437-d44df7a21da6",
   "metadata": {},
   "outputs": [],
   "source": [
    "# Calculate the number of votes the top 90% of movies have\n",
    "m = metadata['vote_count'].quantile(0.90)\n",
    "print(f'# of votes required to be considered: {m}')\n",
    "\n",
    "# filter the movies to only the top 90%\n",
    "filtered_movies = metadata[metadata['vote_count'] >= m]\n",
    "print(filtered_movies.shape)\n",
    "filtered_movies.head(3)"
   ]
  },
  {
   "cell_type": "code",
   "execution_count": null,
   "id": "4a4774c9-1621-4128-bd5a-08c6c49d2c90",
   "metadata": {},
   "outputs": [],
   "source": [
    "def weighted_rating(X, m=m, C=C):\n",
    "    v = X['vote_count']\n",
    "    R = X['vote_average']\n",
    "    \n",
    "    # Calculation based on the IMDB formula\n",
    "    return (v/(v+m) * R) + (m/(m+v) * C)"
   ]
  },
  {
   "cell_type": "code",
   "execution_count": null,
   "id": "f0cb1d88-edf2-47a5-9020-bac936214012",
   "metadata": {},
   "outputs": [],
   "source": [
    "filtered_movies['score'] = filtered_movies.apply(weighted_rating, axis=1)\n",
    "filtered_movies['score']"
   ]
  },
  {
   "cell_type": "code",
   "execution_count": null,
   "id": "e60615d8-31d0-493e-82e4-51ff54f09dbb",
   "metadata": {},
   "outputs": [],
   "source": [
    "#Sort movies based on score calculated above\n",
    "filtered_movies = filtered_movies.sort_values('score', ascending=False)\n",
    "\n",
    "#Print the top 15 movies\n",
    "filtered_movies[['title', 'vote_count', 'vote_average', 'score']].head(20)"
   ]
  },
  {
   "cell_type": "markdown",
   "id": "5ac176b2-1a4a-4189-a3b4-fe92fe47ebe0",
   "metadata": {},
   "source": [
    "# Content Based Recommender"
   ]
  },
  {
   "cell_type": "markdown",
   "id": "d7362572-78e2-44a7-804b-c4ea1e7c7bc6",
   "metadata": {},
   "source": [
    "This recommender uses the cosine similarity of movie overviews to determine which movies are similar."
   ]
  },
  {
   "cell_type": "code",
   "execution_count": null,
   "id": "5a71fe80-9fd9-43d7-84eb-5ab71f057353",
   "metadata": {},
   "outputs": [],
   "source": [
    "metadata = pd.read_csv('./data/movies_metadata.csv', low_memory=False)\n",
    "\n",
    "# print plot overviews of the first 5 movies.\n",
    "metadata['overview'].head()"
   ]
  },
  {
   "cell_type": "code",
   "execution_count": null,
   "id": "caa42317-da43-4111-a9ee-6a4c90a166d5",
   "metadata": {},
   "outputs": [],
   "source": [
    "from sklearn.feature_extraction.text import TfidfVectorizer"
   ]
  },
  {
   "cell_type": "code",
   "execution_count": null,
   "id": "af8999f9-771e-4585-98fe-d4cf4d0f4e08",
   "metadata": {},
   "outputs": [],
   "source": [
    "# define a TF-IDF Vectorizer Object\n",
    "# rremove all english stop words\n",
    "tfidf = TfidfVectorizer(stop_words='english')\n",
    "\n",
    "# replace NaNs int he data with an empty string\n",
    "metadata['overview'] = metadata['overview'].fillna('')\n",
    "\n",
    "# construct the required TF-IDF matrix by fitting and transforming the data\n",
    "tfidf_matrix = tfidf.fit_transform(metadata['overview'])\n",
    "\n",
    "# movies x words(vocabulary)\n",
    "tfidf_matrix.shape"
   ]
  },
  {
   "cell_type": "code",
   "execution_count": null,
   "id": "cd1f6dec-5742-4070-b619-f90c6f171b19",
   "metadata": {},
   "outputs": [],
   "source": [
    "tfidf.get_feature_names_out()[5000:5010]"
   ]
  },
  {
   "cell_type": "code",
   "execution_count": null,
   "id": "0e201e54-3859-43e0-af0e-533ffb762c3a",
   "metadata": {},
   "outputs": [],
   "source": [
    "# import linear_kernel\n",
    "from sklearn.metrics.pairwise import linear_kernel\n",
    "\n",
    "# compute the cosine similarity matrix\n",
    "cosine_sim = linear_kernel(tfidf_matrix, tfidf_matrix)\n",
    "\n",
    "cosine_sim.shape"
   ]
  },
  {
   "cell_type": "code",
   "execution_count": null,
   "id": "82e07d6c-8483-4197-8f36-6f1431432d53",
   "metadata": {},
   "outputs": [],
   "source": [
    "cosine_sim[1]"
   ]
  },
  {
   "cell_type": "code",
   "execution_count": null,
   "id": "cf7f86e3-afb7-44c5-8573-2397aa2d81b1",
   "metadata": {},
   "outputs": [],
   "source": [
    "#Construct a reverse map of indices and movie titles\n",
    "indices = pd.Series(metadata.index, index=metadata['title']).drop_duplicates()\n",
    "\n",
    "indices[:10]"
   ]
  },
  {
   "cell_type": "code",
   "execution_count": null,
   "id": "fd5184ff-d426-4bf7-a644-9c66b416ffd4",
   "metadata": {},
   "outputs": [],
   "source": [
    "# function that takes in movie title as input and outputs most similar movies\n",
    "def get_recommendations(title, cosine_sim=cosine_sim):\n",
    "    # get the index of the movie that matches the title\n",
    "    idx = indices[title]\n",
    "\n",
    "    # get the pairwsie similarity scores of all movies with that movie\n",
    "    sim_scores = list(enumerate(cosine_sim[idx]))\n",
    "\n",
    "    # sort the movies based on the similarity scores\n",
    "    sim_scores = sorted(sim_scores, key=lambda x: x[1], reverse=True)\n",
    "\n",
    "    # get the scores of the 10 most similar movies\n",
    "    sim_scores = sim_scores[1:11]\n",
    "\n",
    "    # get the movie indices\n",
    "    movie_indices = [i[0] for i in sim_scores]\n",
    "\n",
    "    # return the top 10 most similar movies\n",
    "    return metadata['title'].iloc[movie_indices]"
   ]
  },
  {
   "cell_type": "code",
   "execution_count": null,
   "id": "c8451a64-b7e9-452f-8077-aaab23ea514a",
   "metadata": {},
   "outputs": [],
   "source": [
    "get_recommendations('The Dark Knight Rises')"
   ]
  },
  {
   "cell_type": "code",
   "execution_count": null,
   "id": "fd5c9694-bead-459e-8aff-61750438c191",
   "metadata": {},
   "outputs": [],
   "source": [
    "get_recommendations('The Godfather')"
   ]
  },
  {
   "cell_type": "code",
   "execution_count": null,
   "id": "4f7de000-b02b-4339-b60c-1861e47841f5",
   "metadata": {},
   "outputs": [],
   "source": []
  }
 ],
 "metadata": {
  "kernelspec": {
   "display_name": "py311",
   "language": "python",
   "name": "py311"
  },
  "language_info": {
   "codemirror_mode": {
    "name": "ipython",
    "version": 3
   },
   "file_extension": ".py",
   "mimetype": "text/x-python",
   "name": "python",
   "nbconvert_exporter": "python",
   "pygments_lexer": "ipython3",
   "version": "3.11.5"
  }
 },
 "nbformat": 4,
 "nbformat_minor": 5
}
